{
  "nbformat": 4,
  "nbformat_minor": 0,
  "metadata": {
    "colab": {
      "provenance": [],
      "toc_visible": true,
      "authorship_tag": "ABX9TyPBbk2fgJw78OML9fq1Ss+8",
      "include_colab_link": true
    },
    "kernelspec": {
      "name": "python3",
      "display_name": "Python 3"
    },
    "language_info": {
      "name": "python"
    }
  },
  "cells": [
    {
      "cell_type": "markdown",
      "metadata": {
        "id": "view-in-github",
        "colab_type": "text"
      },
      "source": [
        "<a href=\"https://colab.research.google.com/github/AlphaZero3d/NewsScrapeAndSentimentAnalyzer/blob/main/News_Sentiment_Analyzer.ipynb\" target=\"_parent\"><img src=\"https://colab.research.google.com/assets/colab-badge.svg\" alt=\"Open In Colab\"/></a>"
      ]
    },
    {
      "cell_type": "markdown",
      "source": [
        "#News Sentiment Analyzer"
      ],
      "metadata": {
        "id": "0jIM0fUDF-pZ"
      }
    },
    {
      "cell_type": "markdown",
      "source": [
        "Copyright (c) 2023, Alphaero3d@gmail.com\n",
        "All rights reserved.\n",
        "\n",
        "This source code is licensed under the BSD-style license found in the\n",
        "LICENSE file in the root directory of this source tree."
      ],
      "metadata": {
        "id": "EKRaLFYsK2LH"
      }
    },
    {
      "cell_type": "markdown",
      "source": [
        "##Install requirements"
      ],
      "metadata": {
        "id": "o4gmGoM2EkXM"
      }
    },
    {
      "cell_type": "code",
      "execution_count": null,
      "metadata": {
        "id": "FgWFsvQmEKsA"
      },
      "outputs": [],
      "source": [
        "!pip install requests beautifulsoup4 nltk lxml\n",
        "import nltk\n",
        "nltk.download('vader_lexicon')"
      ]
    },
    {
      "cell_type": "markdown",
      "source": [
        "##Run Program"
      ],
      "metadata": {
        "id": "v3xEwa6wErfS"
      }
    },
    {
      "cell_type": "code",
      "source": [
        "import nltk\n",
        "#nltk.download('vader_lexicon')\n",
        "import requests\n",
        "from bs4 import BeautifulSoup\n",
        "from nltk.sentiment import SentimentIntensityAnalyzer\n",
        "\n",
        "\n",
        "def scrape_news(url):\n",
        "  \"\"\"Scrapes the top headlines from a news website.\"\"\"\n",
        "  response = requests.get(url)\n",
        "  soup = BeautifulSoup(response.content, \"html.parser\")\n",
        "  news_list = soup.find_all(\"item\")\n",
        "  return news_list\n",
        "\n",
        "def analyze_sentiment(news_list):\n",
        "  \"\"\"Analyzes the sentiment of the top headlines from a news website.\"\"\"\n",
        "  analyzer = SentimentIntensityAnalyzer()\n",
        "  sentiments = []\n",
        "  for news in news_list:\n",
        "    title_sentiment = analyzer.polarity_scores(news.title.text)\n",
        "\n",
        "    description_sentiment = analyzer.polarity_scores(news.description.text)\n",
        "    sentiments.append((title_sentiment, description_sentiment))\n",
        "  return sentiments\n",
        "\n",
        "def sum_sentiment_scores(sentiments):\n",
        "  \"\"\"Sums the values in the 'neg', 'neu', and 'pos' columns of the sentiment scores.\"\"\"\n",
        "  neg_sum = 0\n",
        "  neu_sum = 0\n",
        "  pos_sum = 0\n",
        "  for title_sentiment, description_sentiment in sentiments:\n",
        "    neg_sum += title_sentiment['neg'] + description_sentiment['neg']\n",
        "    neu_sum += title_sentiment['neu'] + description_sentiment['neu']\n",
        "    pos_sum += title_sentiment['pos'] + description_sentiment['pos']\n",
        "  return neg_sum, neu_sum, pos_sum\n",
        "\n",
        "#userterm = input()\n",
        "\n",
        "if __name__ == \"__main__\":\n",
        "  url  = \"https://news.google.com/news/rss\"\n",
        "  #url = \"https://news.google.com/rss/search?q=stocks&hl=en-US&gl=US&ceid=US%3Aen\"\n",
        "  #url = \"https://news.google.com/rss/search?q=bonds&hl=en-US&gl=US&ceid=US%3Aen\"\n",
        "  #url = \"https://news.google.com/rss/search?q=earnings&hl=en-US&gl=US&ceid=US%3Aen\"\n",
        "  #url = \"https://news.google.com/rss/search?q=netflix&hl=en-US&gl=US&ceid=US%3Aen\"\n",
        "  #url = \"https://www.npr.org/sections/news/\"\n",
        "  #url = \"http://feeds.bbci.co.uk/news/rss.xml\"\n",
        "  #url = \"https://www.ft.com/news-feed/rss.xml\"\n",
        "  #url = \"https://www.nasdaq.com/feed/rssoutbound?category=Stocks/rss.xml\"\n",
        "  #url = \"https://news.google.com/rss/search?q=when:24h+allinurl:bloomberg.com&hl=en-US&gl=US&ceid=US:en\"\n",
        "  #url = \"https://news.google.com/rss/search?gl=US&hl=en-US&q=Tesla,+Inc.&ceid=US:en\"\n",
        "  #url = \"https://news.google.com/rss/search?q=when:24h+allinurl:bloomberg.com\"\n",
        "  #url = \"https://rss.nytimes.com/services/xml/rss/nyt/MostViewed.xml\"\n",
        "  news_list = scrape_news(url)\n",
        "  sentiments = analyze_sentiment(news_list)\n",
        "  neg_sum, neu_sum, pos_sum = sum_sentiment_scores(sentiments)\n",
        "  print(\"Negative sentiment:\", neg_sum)\n",
        "  print(\"Neutral sentiment:\", neu_sum)\n",
        "  print(\"Positive sentiment:\", pos_sum)\n",
        "  print(\"Positive - Negative Difference: \",pos_sum-neg_sum)\n"
      ],
      "metadata": {
        "colab": {
          "base_uri": "https://localhost:8080/"
        },
        "id": "UUSJMMRTELdL",
        "outputId": "008b9ad9-cbbf-4d12-ccc9-5b957ace6473"
      },
      "execution_count": 20,
      "outputs": [
        {
          "output_type": "stream",
          "name": "stdout",
          "text": [
            "Negative sentiment: 7.061999999999999\n",
            "Neutral sentiment: 63.803\n",
            "Positive sentiment: 5.131\n",
            "Positive - Negative Difference:  -1.9309999999999992\n"
          ]
        }
      ]
    },
    {
      "cell_type": "markdown",
      "source": [
        "##Notes:\n",
        "Using google News we can change the \"search\" by editing the term that follows this line of code\n",
        "```\n",
        "search?q=\n",
        "```\n",
        "our new query will be:\n",
        "```\n",
        "search?q= NEW_TERM_HERE\n",
        "```\n",
        "the final string will look like this:\n",
        "```\n",
        "\"https://news.google.com/rss/search?q=NEW_TERM_HERE&hl=en-US&gl=US&ceid=US%3Aen\"\n",
        "```\n",
        "\n",
        "We could also create an updated code that takes user input to automate the html editing process, for instyance if we want to seach AAPL or dogs we can either edit the  \n",
        "\n",
        "```\n",
        "url = \"https://news.google.com/news/rss/search?q=AAPL\"\n",
        "```\n",
        "\n",
        "Alternativley we could take user input like this:\n",
        "\n",
        "```\n",
        "if __name__ == \"__main__\":\n",
        "  userterm = input()\n",
        "  url = \"https://news.google.com/news/rss/search?q={userterm}s&hl=en-US&gl=US&ceid=US%3Aen\"\n",
        "  news_list = scrape_news(url)\n",
        "  sentiments = analyze_sentiment(news_list)\n",
        "  neg_sum, neu_sum, pos_sum = sum_sentiment_scores(sentiments)\n",
        "  print(\"Negative sentiment:\", neg_sum)\n",
        "  print(\"Neutral sentiment:\", neu_sum)\n",
        "  print(\"Positive sentiment:\", pos_sum)\n",
        "  print(\"Positive - Negative Difference: \",pos_sum-neg_sum)\n",
        "\n",
        "```\n",
        "\n"
      ],
      "metadata": {
        "id": "14guh89uGVUN"
      }
    },
    {
      "cell_type": "markdown",
      "source": [
        "#The New Code With User input:"
      ],
      "metadata": {
        "id": "qHWC8EjXI0b0"
      }
    },
    {
      "cell_type": "code",
      "source": [
        "import nltk\n",
        "nltk.download('vader_lexicon')\n",
        "import requests\n",
        "from bs4 import BeautifulSoup\n",
        "from nltk.sentiment import SentimentIntensityAnalyzer\n",
        "\n",
        "\n",
        "def scrape_news(url):\n",
        "  \"\"\"Scrapes the top headlines from a news website.\"\"\"\n",
        "  response = requests.get(url)\n",
        "  soup = BeautifulSoup(response.content, \"html.parser\")\n",
        "  news_list = soup.find_all(\"item\")\n",
        "  return news_list\n",
        "\n",
        "def analyze_sentiment(news_list):\n",
        "  \"\"\"Analyzes the sentiment of the top headlines from a news website.\"\"\"\n",
        "  analyzer = SentimentIntensityAnalyzer()\n",
        "  sentiments = []\n",
        "  for news in news_list:\n",
        "    title_sentiment = analyzer.polarity_scores(news.title.text)\n",
        "\n",
        "    description_sentiment = analyzer.polarity_scores(news.description.text)\n",
        "    sentiments.append((title_sentiment, description_sentiment))\n",
        "  return sentiments\n",
        "\n",
        "def sum_sentiment_scores(sentiments):\n",
        "  \"\"\"Sums the values in the 'neg', 'neu', and 'pos' columns of the sentiment scores.\"\"\"\n",
        "  neg_sum = 0\n",
        "  neu_sum = 0\n",
        "  pos_sum = 0\n",
        "  for title_sentiment, description_sentiment in sentiments:\n",
        "    neg_sum += title_sentiment['neg'] + description_sentiment['neg']\n",
        "    neu_sum += title_sentiment['neu'] + description_sentiment['neu']\n",
        "    pos_sum += title_sentiment['pos'] + description_sentiment['pos']\n",
        "  return neg_sum, neu_sum, pos_sum\n",
        "\n",
        "if __name__ == \"__main__\":\n",
        "  userterm = input()\n",
        "  url = \"https://news.google.com/news/rss/search?q={userterm}s&hl=en-US&gl=US&ceid=US%3Aen\"\n",
        "  news_list = scrape_news(url)\n",
        "  sentiments = analyze_sentiment(news_list)\n",
        "  neg_sum, neu_sum, pos_sum = sum_sentiment_scores(sentiments)\n",
        "  print(\"Negative sentiment:\", neg_sum)\n",
        "  print(\"Neutral sentiment:\", neu_sum)\n",
        "  print(\"Positive sentiment:\", pos_sum)\n",
        "  print(\"Positive - Negative Difference: \",pos_sum-neg_sum)\n"
      ],
      "metadata": {
        "colab": {
          "base_uri": "https://localhost:8080/"
        },
        "id": "jeGRFvNuI5v9",
        "outputId": "100fde59-e1b6-401b-87c0-6ad7d9b07c2c"
      },
      "execution_count": 21,
      "outputs": [
        {
          "output_type": "stream",
          "name": "stdout",
          "text": [
            "war\n",
            "Negative sentiment: 1.8489999999999998\n",
            "Neutral sentiment: 17.71\n",
            "Positive sentiment: 0.44199999999999995\n",
            "Positive - Negative Difference:  -1.4069999999999998\n"
          ]
        }
      ]
    },
    {
      "cell_type": "markdown",
      "source": [
        "##Creating the webapp\n"
      ],
      "metadata": {
        "id": "Q_oZ9wmTPdkY"
      }
    },
    {
      "cell_type": "markdown",
      "source": [
        "Creating a web app that isn't self-hosted using Google Colab involves creating a web interface that interacts with your code running in Colab. Keep in mind that Colab is primarily designed for data analysis and machine learning tasks, and it's not meant to be a full-fledged web hosting platform. However, you can use tools like Flask and ngrok to create a temporary web interface for your script. Here's a basic outline of how you can achieve this:"
      ],
      "metadata": {
        "id": "yLCWugePSIn8"
      }
    },
    {
      "cell_type": "markdown",
      "source": [
        "1: Use Flask to Create a Web Interface:\n",
        "Flask is a lightweight web framework for Python. You can use Flask to create a simple web interface that allows users to input their search term and displays the sentiment analysis results.\n",
        "\n",
        "Install Flask by running the following command in a code cell in your Colab notebook:"
      ],
      "metadata": {
        "id": "XhXrD4DwSJrF"
      }
    },
    {
      "cell_type": "code",
      "source": [
        "!pip install flask\n"
      ],
      "metadata": {
        "colab": {
          "base_uri": "https://localhost:8080/"
        },
        "id": "cgMYqmp5Rhch",
        "outputId": "36838cbf-4c60-4fa5-adff-4bf50f225538"
      },
      "execution_count": 27,
      "outputs": [
        {
          "output_type": "stream",
          "name": "stdout",
          "text": [
            "Requirement already satisfied: flask in /usr/local/lib/python3.10/dist-packages (2.2.5)\n",
            "Requirement already satisfied: Werkzeug>=2.2.2 in /usr/local/lib/python3.10/dist-packages (from flask) (2.3.6)\n",
            "Requirement already satisfied: Jinja2>=3.0 in /usr/local/lib/python3.10/dist-packages (from flask) (3.1.2)\n",
            "Requirement already satisfied: itsdangerous>=2.0 in /usr/local/lib/python3.10/dist-packages (from flask) (2.1.2)\n",
            "Requirement already satisfied: click>=8.0 in /usr/local/lib/python3.10/dist-packages (from flask) (8.1.6)\n",
            "Requirement already satisfied: MarkupSafe>=2.0 in /usr/local/lib/python3.10/dist-packages (from Jinja2>=3.0->flask) (2.1.3)\n"
          ]
        }
      ]
    },
    {
      "cell_type": "markdown",
      "source": [
        "Then, create a new code cell and write a Flask app:"
      ],
      "metadata": {
        "id": "jR3fut4wSSqX"
      }
    },
    {
      "cell_type": "code",
      "source": [
        "from flask import Flask, request, render_template\n",
        "app = Flask(__name__)\n",
        "\n",
        "@app.route(\"/\", methods=[\"GET\", \"POST\"])\n",
        "def index():\n",
        "    if request.method == \"POST\":\n",
        "        userterm = request.form[\"userterm\"]\n",
        "        # ... Run your sentiment analysis code here ...\n",
        "        # Return the sentiment analysis results as HTML\n",
        "        return f\"Sentiment analysis results for '{userterm}': ...\"\n",
        "    return render_template(\"index.html\")\n",
        "\n",
        "if __name__ == \"__main__\":\n",
        "    app.run(debug=True)\n"
      ],
      "metadata": {
        "colab": {
          "base_uri": "https://localhost:8080/"
        },
        "id": "wWfRejSWRj9Z",
        "outputId": "6415979a-da71-4003-a6e0-886db826f67c"
      },
      "execution_count": 28,
      "outputs": [
        {
          "output_type": "stream",
          "name": "stdout",
          "text": [
            " * Serving Flask app '__main__'\n",
            " * Debug mode: on\n"
          ]
        },
        {
          "output_type": "stream",
          "name": "stderr",
          "text": [
            "INFO:werkzeug:\u001b[31m\u001b[1mWARNING: This is a development server. Do not use it in a production deployment. Use a production WSGI server instead.\u001b[0m\n",
            " * Running on http://127.0.0.1:5000\n",
            "INFO:werkzeug:\u001b[33mPress CTRL+C to quit\u001b[0m\n",
            "INFO:werkzeug: * Restarting with stat\n"
          ]
        }
      ]
    },
    {
      "cell_type": "markdown",
      "source": [
        "2: Create an HTML Template:\n",
        "You can create an HTML template named \"index.html\" in the same directory as your notebook. This template will provide the user interface for the web app. Here's a simple example:\n",
        "\n",
        "```\n",
        "<!DOCTYPE html>\n",
        "<html>\n",
        "<head>\n",
        "    <title>Sentiment Analysis Web App</title>\n",
        "</head>\n",
        "<body>\n",
        "    <h1>Sentiment Analysis Web App</h1>\n",
        "    <form method=\"POST\" action=\"/\">\n",
        "        <label for=\"userterm\">Enter a search term:</label>\n",
        "        <input type=\"text\" name=\"userterm\" required>\n",
        "        <button type=\"submit\">Analyze</button>\n",
        "    </form>\n",
        "</body>\n",
        "</html>\n",
        "\n",
        "```"
      ],
      "metadata": {
        "id": "Vm02RhlyRtgL"
      }
    },
    {
      "cell_type": "markdown",
      "source": [
        "3: Expose the Web App with ngrok:\n",
        "ngrok is a tool that creates a secure tunnel from a public endpoint to a locally running web service. This allows you to temporarily expose your Colab-based Flask app to the internet.\n",
        "\n",
        "Install ngrok by running this command in a code cell:"
      ],
      "metadata": {
        "id": "lq-LZO6NR59y"
      }
    },
    {
      "cell_type": "code",
      "source": [
        "!pip install pyngrok"
      ],
      "metadata": {
        "id": "tkRl9wNqR3PQ"
      },
      "execution_count": null,
      "outputs": []
    },
    {
      "cell_type": "markdown",
      "source": [
        "Then, create a new code cell to run ngrok:"
      ],
      "metadata": {
        "id": "6qlBT60ZR8tt"
      }
    },
    {
      "cell_type": "code",
      "source": [
        "from pyngrok import ngrok\n",
        "\n",
        "# Set up the tunnel to your local Flask app\n",
        "public_url = ngrok.connect(port=5000)\n",
        "print(\"Public URL:\", public_url)"
      ],
      "metadata": {
        "id": "O7WoOmbgR-1i"
      },
      "execution_count": null,
      "outputs": []
    },
    {
      "cell_type": "markdown",
      "source": [
        "The public URL provided by ngrok is what you can share with others to access your web app temporarily.\n",
        "\n",
        "\n",
        "Please note that this approach is temporary and not suitable for hosting production-level web apps. The ngrok tunnel will expire after a certain period, and Colab environments are meant for interactive sessions, not for long-running web apps. For a more robust and reliable solution, you should consider using proper web hosting platforms and frameworks."
      ],
      "metadata": {
        "id": "bxBcWC9_SAe2"
      }
    },
    {
      "cell_type": "markdown",
      "source": [
        "##Production-level web application"
      ],
      "metadata": {
        "id": "ZYsNeFA8TCAl"
      }
    },
    {
      "cell_type": "markdown",
      "source": [
        "For a production-level web application, you should move away from Google Colab and consider using a dedicated web hosting service, a cloud provider, or a server you control. Here's a high-level outline of the steps you would take to deploy a sentiment analysis web application:\n",
        "\n",
        "    Select a Hosting Provider:\n",
        "    Choose a reliable hosting provider or cloud platform that offers web hosting services. Popular options include AWS (Amazon Web Services), Google Cloud Platform, Microsoft Azure, DigitalOcean, Heroku, and more.\n",
        "\n",
        "    Prepare Your Code:\n",
        "    Organize your code into a directory structure suitable for a production environment. Make sure your code follows best practices and is optimized for performance and security.\n",
        "\n",
        "    Choose a Web Framework:\n",
        "    Select a web framework for your application. Flask, Django, and FastAPI are popular choices for Python web development.\n",
        "\n",
        "    Set Up a Production Server:\n",
        "    Deploy your application on a production server. This involves setting up a web server (like Nginx or Apache) to serve your application, configuring a WSGI (Web Server Gateway Interface) server to handle requests, and creating a process manager (like Gunicorn or uWSGI) to manage your application's processes.\n",
        "\n",
        "    Database Integration (Optional):\n",
        "    If your application requires data storage, set up a production-ready database. MySQL, PostgreSQL, MongoDB, and others are common choices.\n",
        "\n",
        "    Security Measures:\n",
        "    Implement security best practices, such as HTTPS using SSL/TLS certificates, input validation, user authentication, and authorization. Regularly update your software to patch security vulnerabilities.\n",
        "\n",
        "    Monitoring and Logging:\n",
        "    Set up monitoring tools to track the performance, uptime, and usage of your application. Configure logging to capture errors and events for debugging.\n",
        "\n",
        "    Domain Name and DNS Configuration:\n",
        "    Obtain a domain name for your application and configure DNS settings to point to your server's IP address.\n",
        "\n",
        "    Scaling (if needed):\n",
        "    As your application grows, you might need to scale it horizontally (adding more servers) or vertically (increasing server resources).\n",
        "\n",
        "    Continuous Integration and Deployment (CI/CD):\n",
        "    Implement a CI/CD pipeline to automate deployment and updates. Tools like Jenkins, Travis CI, CircleCI, and GitHub Actions can help streamline this process.\n",
        "\n",
        "    Backup and Disaster Recovery:\n",
        "    Set up regular backups and implement disaster recovery plans to ensure data integrity and availability.\n",
        "\n",
        "    Legal and Compliance:\n",
        "    Ensure your application complies with relevant legal regulations, such as data protection laws (like GDPR) and copyright restrictions.\n",
        "\n",
        "Deploying a production-level web application involves a complex set of tasks and considerations. It's recommended to thoroughly research each step and seek guidance from experienced developers if you're new to deploying applications in a production environment.\n"
      ],
      "metadata": {
        "id": "9sxW3C40SnDa"
      }
    }
  ]
}